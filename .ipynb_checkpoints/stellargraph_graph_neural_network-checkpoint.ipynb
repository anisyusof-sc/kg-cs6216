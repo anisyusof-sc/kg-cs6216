{
 "cells": [
  {
   "cell_type": "code",
   "execution_count": 1,
   "id": "portable-conjunction",
   "metadata": {},
   "outputs": [],
   "source": [
    "from stellargraph import StellarGraph"
   ]
  },
  {
   "cell_type": "code",
   "execution_count": 2,
   "id": "protecting-gossip",
   "metadata": {},
   "outputs": [],
   "source": [
    "import os\n",
    "import py2neo\n",
    "import pandas as pd\n",
    "\n",
    "default_host = os.environ.get(\"STELLARGRAPH_NEO4J_HOST\")\n",
    "\n",
    "# Create the Neo4j Graph database object; the parameters can be edited to specify location and authentication\n",
    "neo4j_graph = py2neo.Graph(host='localhost', port=7687, user='neo4j', password='anis')"
   ]
  },
  {
   "cell_type": "code",
   "execution_count": 3,
   "id": "iraqi-nashville",
   "metadata": {},
   "outputs": [],
   "source": [
    "node_labels = neo4j_graph.run(\n",
    "    \"\"\"\n",
    "MATCH (n) RETURN distinct labels(n)[0] AS nodeLabel\n",
    "    \"\"\"\n",
    ").to_data_frame()\n"
   ]
  },
  {
   "cell_type": "code",
   "execution_count": 4,
   "id": "separate-opinion",
   "metadata": {},
   "outputs": [],
   "source": [
    "nodeDict = {}\n",
    "\n",
    "for idx, row in node_labels.itertuples():\n",
    "    currNode = neo4j_graph.run(\"MATCH (a:`\" + row + \"`) RETURN DISTINCT ID(a) as name\").to_data_frame()\n",
    "    currNode.set_index('name')\n",
    "    nodeDict[row] = currNode"
   ]
  },
  {
   "cell_type": "code",
   "execution_count": 5,
   "id": "bottom-lightning",
   "metadata": {},
   "outputs": [],
   "source": [
    "rel_types = neo4j_graph.run(\n",
    "    \"\"\"\n",
    "MATCH ()-[r]->() RETURN distinct type(r)\n",
    "    \"\"\"\n",
    ").to_data_frame()"
   ]
  },
  {
   "cell_type": "code",
   "execution_count": 6,
   "id": "inside-notice",
   "metadata": {},
   "outputs": [],
   "source": [
    "edgeDict = {}\n",
    "\n",
    "for idx, row in rel_types.itertuples():\n",
    "    currEdge = neo4j_graph.run(\"MATCH (a)-[r:`\" + row + \"`]->(b) RETURN ID(r) AS rid, ID(a) as source, ID(b) as target\").to_data_frame()\n",
    "    currEdge.set_index('rid')\n",
    "    edgeDict[row] = currEdge"
   ]
  },
  {
   "cell_type": "raw",
   "id": "changing-personality",
   "metadata": {},
   "source": [
    "for idx, val in enumerate(nodeDict):\n",
    "    nodeDict[int(idx)] = nodeDict[val]\n",
    "    del nodeDict[val]\n",
    "    \n",
    "for idx, val in enumerate(edgeDict):\n",
    "    edgeDict[int(idx)] = edgeDict[val]\n",
    "    del edgeDict[val]"
   ]
  },
  {
   "cell_type": "code",
   "execution_count": 12,
   "id": "outdoor-falls",
   "metadata": {},
   "outputs": [
    {
     "name": "stdout",
     "output_type": "stream",
     "text": [
      "     name\n",
      "0  154471\n",
      "1  154787\n",
      "2  154923\n"
     ]
    }
   ],
   "source": [
    "print(nodeDict['proto'])"
   ]
  },
  {
   "cell_type": "code",
   "execution_count": 8,
   "id": "plastic-thirty",
   "metadata": {},
   "outputs": [
    {
     "ename": "ValueError",
     "evalue": "expected IDs to appear once, found some that appeared more: 0, 1, 2, 3, 4, 5, 6, 7, 8, 9, 10, 11, 12, 13, 14, 15, 16, 17, 18, 19, ... (49980 more)",
     "output_type": "error",
     "traceback": [
      "\u001b[0;31m---------------------------------------------------------------------------\u001b[0m",
      "\u001b[0;31mValueError\u001b[0m                                Traceback (most recent call last)",
      "\u001b[0;32m<ipython-input-8-f42ab21a6bcd>\u001b[0m in \u001b[0;36m<module>\u001b[0;34m\u001b[0m\n\u001b[0;32m----> 1\u001b[0;31m \u001b[0mhetereogeneous_everything\u001b[0m \u001b[0;34m=\u001b[0m \u001b[0mStellarGraph\u001b[0m\u001b[0;34m(\u001b[0m\u001b[0mnodeDict\u001b[0m\u001b[0;34m,\u001b[0m \u001b[0medgeDict\u001b[0m\u001b[0;34m)\u001b[0m\u001b[0;34m\u001b[0m\u001b[0;34m\u001b[0m\u001b[0m\n\u001b[0m",
      "\u001b[0;32m~/anaconda3/envs/stellargraph/lib/python3.7/site-packages/stellargraph/core/graph.py\u001b[0m in \u001b[0;36m__init__\u001b[0;34m(self, nodes, edges, is_directed, source_column, target_column, edge_weight_column, edge_type_column, node_type_default, edge_type_default, dtype, graph, node_type_name, edge_type_name, node_features)\u001b[0m\n\u001b[1;32m    413\u001b[0m         \u001b[0;32mif\u001b[0m \u001b[0;32mnot\u001b[0m \u001b[0many_internal\u001b[0m\u001b[0;34m:\u001b[0m\u001b[0;34m\u001b[0m\u001b[0;34m\u001b[0m\u001b[0m\n\u001b[1;32m    414\u001b[0m             internal_nodes = convert.convert_nodes(\n\u001b[0;32m--> 415\u001b[0;31m                 \u001b[0mnodes\u001b[0m\u001b[0;34m,\u001b[0m \u001b[0mname\u001b[0m\u001b[0;34m=\u001b[0m\u001b[0;34m\"nodes\"\u001b[0m\u001b[0;34m,\u001b[0m \u001b[0mdefault_type\u001b[0m\u001b[0;34m=\u001b[0m\u001b[0mnode_type_default\u001b[0m\u001b[0;34m,\u001b[0m \u001b[0mdtype\u001b[0m\u001b[0;34m=\u001b[0m\u001b[0mdtype\u001b[0m\u001b[0;34m,\u001b[0m\u001b[0;34m\u001b[0m\u001b[0;34m\u001b[0m\u001b[0m\n\u001b[0m\u001b[1;32m    416\u001b[0m             )\n\u001b[1;32m    417\u001b[0m \u001b[0;34m\u001b[0m\u001b[0m\n",
      "\u001b[0;32m~/anaconda3/envs/stellargraph/lib/python3.7/site-packages/stellargraph/core/convert.py\u001b[0m in \u001b[0;36mconvert_nodes\u001b[0;34m(data, name, default_type, dtype)\u001b[0m\n\u001b[1;32m    254\u001b[0m     \u001b[0mids\u001b[0m\u001b[0;34m,\u001b[0m \u001b[0mcolumns\u001b[0m\u001b[0;34m,\u001b[0m \u001b[0mtype_info\u001b[0m \u001b[0;34m=\u001b[0m \u001b[0mconverter\u001b[0m\u001b[0;34m.\u001b[0m\u001b[0mconvert\u001b[0m\u001b[0;34m(\u001b[0m\u001b[0mdata\u001b[0m\u001b[0;34m)\u001b[0m\u001b[0;34m\u001b[0m\u001b[0;34m\u001b[0m\u001b[0m\n\u001b[1;32m    255\u001b[0m     \u001b[0;32massert\u001b[0m \u001b[0mlen\u001b[0m\u001b[0;34m(\u001b[0m\u001b[0mcolumns\u001b[0m\u001b[0;34m)\u001b[0m \u001b[0;34m==\u001b[0m \u001b[0;36m0\u001b[0m\u001b[0;34m\u001b[0m\u001b[0;34m\u001b[0m\u001b[0m\n\u001b[0;32m--> 256\u001b[0;31m     \u001b[0;32mreturn\u001b[0m \u001b[0mNodeData\u001b[0m\u001b[0;34m(\u001b[0m\u001b[0mids\u001b[0m\u001b[0;34m,\u001b[0m \u001b[0mtype_info\u001b[0m\u001b[0;34m)\u001b[0m\u001b[0;34m\u001b[0m\u001b[0;34m\u001b[0m\u001b[0m\n\u001b[0m\u001b[1;32m    257\u001b[0m \u001b[0;34m\u001b[0m\u001b[0m\n\u001b[1;32m    258\u001b[0m \u001b[0;34m\u001b[0m\u001b[0m\n",
      "\u001b[0;32m~/anaconda3/envs/stellargraph/lib/python3.7/site-packages/stellargraph/core/element_data.py\u001b[0m in \u001b[0;36m__init__\u001b[0;34m(self, ids, type_info)\u001b[0m\n\u001b[1;32m    166\u001b[0m             )\n\u001b[1;32m    167\u001b[0m \u001b[0;34m\u001b[0m\u001b[0m\n\u001b[0;32m--> 168\u001b[0;31m         \u001b[0mself\u001b[0m\u001b[0;34m.\u001b[0m\u001b[0m_id_index\u001b[0m \u001b[0;34m=\u001b[0m \u001b[0mExternalIdIndex\u001b[0m\u001b[0;34m(\u001b[0m\u001b[0mids\u001b[0m\u001b[0;34m)\u001b[0m\u001b[0;34m\u001b[0m\u001b[0;34m\u001b[0m\u001b[0m\n\u001b[0m\u001b[1;32m    169\u001b[0m \u001b[0;34m\u001b[0m\u001b[0m\n\u001b[1;32m    170\u001b[0m         \u001b[0;31m# there's typically a small number of types, so we can map them down to a small integer type\u001b[0m\u001b[0;34m\u001b[0m\u001b[0;34m\u001b[0m\u001b[0;34m\u001b[0m\u001b[0m\n",
      "\u001b[0;32m~/anaconda3/envs/stellargraph/lib/python3.7/site-packages/stellargraph/core/element_data.py\u001b[0m in \u001b[0;36m__init__\u001b[0;34m(self, ids)\u001b[0m\n\u001b[1;32m     43\u001b[0m             \u001b[0mduplicated\u001b[0m \u001b[0;34m=\u001b[0m \u001b[0mself\u001b[0m\u001b[0;34m.\u001b[0m\u001b[0m_index\u001b[0m\u001b[0;34m[\u001b[0m\u001b[0mself\u001b[0m\u001b[0;34m.\u001b[0m\u001b[0m_index\u001b[0m\u001b[0;34m.\u001b[0m\u001b[0mduplicated\u001b[0m\u001b[0;34m(\u001b[0m\u001b[0;34m)\u001b[0m\u001b[0;34m]\u001b[0m\u001b[0;34m.\u001b[0m\u001b[0munique\u001b[0m\u001b[0;34m(\u001b[0m\u001b[0;34m)\u001b[0m\u001b[0;34m\u001b[0m\u001b[0;34m\u001b[0m\u001b[0m\n\u001b[1;32m     44\u001b[0m             raise ValueError(\n\u001b[0;32m---> 45\u001b[0;31m                 \u001b[0;34mf\"expected IDs to appear once, found some that appeared more: {comma_sep(duplicated)}\"\u001b[0m\u001b[0;34m\u001b[0m\u001b[0;34m\u001b[0m\u001b[0m\n\u001b[0m\u001b[1;32m     46\u001b[0m             )\n\u001b[1;32m     47\u001b[0m \u001b[0;34m\u001b[0m\u001b[0m\n",
      "\u001b[0;31mValueError\u001b[0m: expected IDs to appear once, found some that appeared more: 0, 1, 2, 3, 4, 5, 6, 7, 8, 9, 10, 11, 12, 13, 14, 15, 16, 17, 18, 19, ... (49980 more)"
     ]
    }
   ],
   "source": [
    "hetereogeneous_everything = StellarGraph(nodeDict, edgeDict)"
   ]
  }
 ],
 "metadata": {
  "kernelspec": {
   "display_name": "Python 3",
   "language": "python",
   "name": "python3"
  },
  "language_info": {
   "codemirror_mode": {
    "name": "ipython",
    "version": 3
   },
   "file_extension": ".py",
   "mimetype": "text/x-python",
   "name": "python",
   "nbconvert_exporter": "python",
   "pygments_lexer": "ipython3",
   "version": "3.7.10"
  }
 },
 "nbformat": 4,
 "nbformat_minor": 5
}
