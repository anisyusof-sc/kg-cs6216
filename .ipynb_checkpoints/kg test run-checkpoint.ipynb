{
 "cells": [
  {
   "cell_type": "code",
   "execution_count": 1,
   "id": "different-paste",
   "metadata": {},
   "outputs": [],
   "source": [
    "import os\n",
    "import numpy as np\n",
    "from ampligraph.latent_features import TransE\n",
    "from ampligraph.datasets import load_from_csv"
   ]
  },
  {
   "cell_type": "code",
   "execution_count": 2,
   "id": "marked-invalid",
   "metadata": {},
   "outputs": [],
   "source": [
    "datasetPath = os.getcwd()\n",
    "datasetCsvFilename = 'output.csv'\n",
    "separator = ','"
   ]
  },
  {
   "cell_type": "code",
   "execution_count": 3,
   "id": "modern-premium",
   "metadata": {},
   "outputs": [
    {
     "name": "stdout",
     "output_type": "stream",
     "text": [
      "WARNING - All triples will be processed in the same batch (batches_count=1). When processing large graphs it is recommended to batch the input knowledge graph instead.\n"
     ]
    }
   ],
   "source": [
    "model = TransE(batches_count=1, seed=555, epochs=20, k=10, loss='pairwise', loss_params={'margin':5})"
   ]
  },
  {
   "cell_type": "code",
   "execution_count": 4,
   "id": "unsigned-munich",
   "metadata": {},
   "outputs": [],
   "source": [
    "X = load_from_csv(datasetPath, datasetCsvFilename, sep=separator)"
   ]
  },
  {
   "cell_type": "code",
   "execution_count": 5,
   "id": "french-quick",
   "metadata": {},
   "outputs": [],
   "source": [
    "model.fit(X)"
   ]
  },
  {
   "cell_type": "code",
   "execution_count": 6,
   "id": "material-colors",
   "metadata": {
    "scrolled": true
   },
   "outputs": [
    {
     "data": {
      "text/plain": [
       "array([-1.2907796, -2.4171114], dtype=float32)"
      ]
     },
     "execution_count": 6,
     "metadata": {},
     "output_type": "execute_result"
    }
   ],
   "source": [
    "model.predict(np.array([['CJaDcG3MZzvf1YVYI4', 'proto', 'tcp'], ['CAvTkO0J4x7EI4Wj2', 'id.orig_h', '192.168.100.103']]))"
   ]
  },
  {
   "cell_type": "code",
   "execution_count": 7,
   "id": "empirical-tuition",
   "metadata": {
    "scrolled": true
   },
   "outputs": [
    {
     "data": {
      "text/plain": [
       "array([[-0.00178379,  0.00220934,  0.00724995,  0.00044512,  0.00808513,\n",
       "        -0.01175838, -0.0007611 , -0.00440174, -0.01105246,  0.00758744],\n",
       "       [-0.00942178,  0.00510708,  0.0035858 , -0.00329344, -0.00197752,\n",
       "        -0.00077746, -0.00335929, -0.0005518 , -0.0109074 ,  0.00266361]],\n",
       "      dtype=float32)"
      ]
     },
     "execution_count": 7,
     "metadata": {},
     "output_type": "execute_result"
    }
   ],
   "source": [
    "model.get_embeddings(['CJaDcG3MZzvf1YVYI4','CAvTkO0J4x7EI4Wj2'], embedding_type='entity')"
   ]
  }
 ],
 "metadata": {
  "kernelspec": {
   "display_name": "Python 3",
   "language": "python",
   "name": "python3"
  },
  "language_info": {
   "codemirror_mode": {
    "name": "ipython",
    "version": 3
   },
   "file_extension": ".py",
   "mimetype": "text/x-python",
   "name": "python",
   "nbconvert_exporter": "python",
   "pygments_lexer": "ipython3",
   "version": "3.7.10"
  }
 },
 "nbformat": 4,
 "nbformat_minor": 5
}
