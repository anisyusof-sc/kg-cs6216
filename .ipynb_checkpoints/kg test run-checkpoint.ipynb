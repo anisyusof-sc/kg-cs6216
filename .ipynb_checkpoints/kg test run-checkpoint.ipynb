{
 "cells": [
  {
   "cell_type": "code",
   "execution_count": 1,
   "id": "different-paste",
   "metadata": {},
   "outputs": [],
   "source": [
    "import os\n",
    "import numpy as np\n",
    "from ampligraph.evaluation import train_test_split_no_unseen\n",
    "from ampligraph.evaluation import evaluate_performance\n",
    "from ampligraph.latent_features import TransE\n",
    "from ampligraph.datasets import load_from_csv\n",
    "from ampligraph.utils import create_tensorboard_visualizations\n",
    "from ampligraph.evaluation import mr_score, mrr_score, hits_at_n_score\n",
    "from ampligraph.discovery import *"
   ]
  },
  {
   "cell_type": "code",
   "execution_count": 2,
   "id": "marked-invalid",
   "metadata": {},
   "outputs": [],
   "source": [
    "datasetPath = os.getcwd()\n",
    "datasetCsvFilename = 'output.csv'\n",
    "separator = ','"
   ]
  },
  {
   "cell_type": "code",
   "execution_count": 3,
   "id": "unsigned-munich",
   "metadata": {},
   "outputs": [],
   "source": [
    "X = load_from_csv(datasetPath, datasetCsvFilename, sep=separator)"
   ]
  },
  {
   "cell_type": "code",
   "execution_count": 4,
   "id": "sitting-series",
   "metadata": {},
   "outputs": [],
   "source": [
    "num_test = int(len(X) * (20 / 100)) #20% test, 80% train"
   ]
  },
  {
   "cell_type": "code",
   "execution_count": 5,
   "id": "fifth-marketplace",
   "metadata": {},
   "outputs": [],
   "source": [
    "X_train, X_test = train_test_split_no_unseen(X, test_size=num_test)"
   ]
  },
  {
   "cell_type": "code",
   "execution_count": 6,
   "id": "sporting-worth",
   "metadata": {},
   "outputs": [
    {
     "name": "stdout",
     "output_type": "stream",
     "text": [
      "WARNING - All triples will be processed in the same batch (batches_count=1). When processing large graphs it is recommended to batch the input knowledge graph instead.\n"
     ]
    }
   ],
   "source": [
    "model = TransE(batches_count=1, seed=555, epochs=20, k=2, loss='pairwise', loss_params={'margin':5})"
   ]
  },
  {
   "cell_type": "code",
   "execution_count": 7,
   "id": "french-quick",
   "metadata": {},
   "outputs": [],
   "source": [
    "model.fit(X_train)"
   ]
  },
  {
   "cell_type": "code",
   "execution_count": 8,
   "id": "material-colors",
   "metadata": {
    "scrolled": true
   },
   "outputs": [
    {
     "data": {
      "text/plain": [
       "array([-0.78648734, -0.45819777, -0.5543292 , ..., -0.6693086 ,\n",
       "       -0.28723234, -0.4304322 ], dtype=float32)"
      ]
     },
     "execution_count": 8,
     "metadata": {},
     "output_type": "execute_result"
    }
   ],
   "source": [
    "model.predict(X_test)"
   ]
  },
  {
   "cell_type": "markdown",
   "id": "removed-million",
   "metadata": {},
   "source": [
    "Both entities below are _Malicious_"
   ]
  },
  {
   "cell_type": "code",
   "execution_count": 9,
   "id": "empirical-tuition",
   "metadata": {
    "scrolled": false
   },
   "outputs": [
    {
     "data": {
      "text/plain": [
       "array([[-0.00515619, -0.01402817],\n",
       "       [-0.00719168, -0.0088463 ]], dtype=float32)"
      ]
     },
     "execution_count": 9,
     "metadata": {},
     "output_type": "execute_result"
    }
   ],
   "source": [
    "model.get_embeddings(['CUmrqr4svHuSXJy5z7','CH98aB3s1kJeq6SFOc'], embedding_type='entity')"
   ]
  },
  {
   "cell_type": "markdown",
   "id": "regulated-coaching",
   "metadata": {},
   "source": [
    "## Evaluate performance of fitted X_Test data"
   ]
  },
  {
   "cell_type": "code",
   "execution_count": 10,
   "id": "developmental-lease",
   "metadata": {},
   "outputs": [],
   "source": [
    "positives_filter = X"
   ]
  },
  {
   "cell_type": "code",
   "execution_count": 11,
   "id": "smooth-petroleum",
   "metadata": {},
   "outputs": [
    {
     "name": "stdout",
     "output_type": "stream",
     "text": [
      "WARNING - DeprecationWarning: use_default_protocol will be removed in future. Please use corrupt_side argument instead.\n",
      "WARNING - You are attempting to use 154465 distinct entities to generate synthetic negatives in the evaluation\n",
      "    protocol. This may be unnecessary and will lead to a 'harder' task. Besides, it will lead to a much slower\n",
      "    evaluation procedure. We recommended to set the 'corruption_entities' argument to a reasonably sized set\n",
      "    of entities. The size of corruption_entities depends on your domain-specific task.\n"
     ]
    },
    {
     "name": "stderr",
     "output_type": "stream",
     "text": [
      "/home/anis/anaconda3/envs/ampligraph/lib/python3.7/site-packages/ampligraph/evaluation/protocol.py:707: UserWarning: You are attempting to use 154465 distinct entities to generate synthetic negatives in the evaluation\n",
      "    protocol. This may be unnecessary and will lead to a 'harder' task. Besides, it will lead to a much slower\n",
      "    evaluation procedure. We recommended to set the 'corruption_entities' argument to a reasonably sized set\n",
      "    of entities. The size of corruption_entities depends on your domain-specific task.\n",
      "  warnings.warn(warn_msg % ent_for_corruption_size)\n"
     ]
    }
   ],
   "source": [
    "ranks = evaluate_performance(X_test, \n",
    "                             model=model,\n",
    "                             filter_triples=positives_filter,   # Corruption strategy filter defined above \n",
    "                             use_default_protocol=True, # corrupt subj and obj separately while evaluating\n",
    "                             verbose=True)"
   ]
  },
  {
   "cell_type": "markdown",
   "id": "remarkable-wireless",
   "metadata": {},
   "source": [
    "### Metrics"
   ]
  },
  {
   "cell_type": "code",
   "execution_count": 12,
   "id": "simplified-cattle",
   "metadata": {},
   "outputs": [
    {
     "name": "stdout",
     "output_type": "stream",
     "text": [
      "MRR: 0.01\n",
      "Hits@10: 0.02\n",
      "Hits@3: 0.01\n",
      "Hits@1: 0.01\n"
     ]
    }
   ],
   "source": [
    "mrr = mrr_score(ranks)\n",
    "print(\"MRR: %.2f\" % (mrr))\n",
    "\n",
    "hits_10 = hits_at_n_score(ranks, n=10)\n",
    "print(\"Hits@10: %.2f\" % (hits_10))\n",
    "hits_3 = hits_at_n_score(ranks, n=3)\n",
    "print(\"Hits@3: %.2f\" % (hits_3))\n",
    "hits_1 = hits_at_n_score(ranks, n=1)\n",
    "print(\"Hits@1: %.2f\" % (hits_1))"
   ]
  },
  {
   "cell_type": "markdown",
   "id": "toxic-standard",
   "metadata": {},
   "source": [
    "## Predicting New Links"
   ]
  },
  {
   "cell_type": "code",
   "execution_count": 35,
   "id": "typical-dating",
   "metadata": {},
   "outputs": [
    {
     "data": {
      "text/plain": [
       "(877443, 3)"
      ]
     },
     "execution_count": 35,
     "metadata": {},
     "output_type": "execute_result"
    }
   ],
   "source": [
    "X_unseen = load_from_csv('/home/anis/Documents/project/kg/iot_23_datasets_small/CTU-IoT-Malware-Capture-3-1/bro/', 'output.csv', sep=separator)\n",
    "X_unseen.shape"
   ]
  },
  {
   "cell_type": "code",
   "execution_count": 32,
   "id": "intellectual-citizenship",
   "metadata": {},
   "outputs": [],
   "source": [
    "unseen_filter = np.array(list({tuple(i) for i in np.vstack((positives_filter, X_unseen))}))"
   ]
  },
  {
   "cell_type": "code",
   "execution_count": 36,
   "id": "bibliographic-setting",
   "metadata": {},
   "outputs": [
    {
     "name": "stdout",
     "output_type": "stream",
     "text": [
      "WARNING - DeprecationWarning: use_default_protocol will be removed in future. Please use corrupt_side argument instead.\n",
      "ERROR - X must be either a numpy array or an AmpligraphDatasetAdapter.\n"
     ]
    },
    {
     "ename": "ValueError",
     "evalue": "X must be either a numpy array or an AmpligraphDatasetAdapter.",
     "output_type": "error",
     "traceback": [
      "\u001b[0;31m---------------------------------------------------------------------------\u001b[0m",
      "\u001b[0;31mValueError\u001b[0m                                Traceback (most recent call last)",
      "\u001b[0;32m<ipython-input-36-103150253008>\u001b[0m in \u001b[0;36m<module>\u001b[0;34m\u001b[0m\n\u001b[1;32m      3\u001b[0m                              \u001b[0mfilter_triples\u001b[0m\u001b[0;34m=\u001b[0m\u001b[0munseen_filter\u001b[0m\u001b[0;34m,\u001b[0m   \u001b[0;31m# Corruption strategy filter defined above\u001b[0m\u001b[0;34m\u001b[0m\u001b[0;34m\u001b[0m\u001b[0m\n\u001b[1;32m      4\u001b[0m                              \u001b[0muse_default_protocol\u001b[0m\u001b[0;34m=\u001b[0m\u001b[0;32mTrue\u001b[0m\u001b[0;34m,\u001b[0m \u001b[0;31m# corrupt subj and obj separately while evaluating\u001b[0m\u001b[0;34m\u001b[0m\u001b[0;34m\u001b[0m\u001b[0m\n\u001b[0;32m----> 5\u001b[0;31m                              verbose=True)\n\u001b[0m",
      "\u001b[0;32m~/anaconda3/envs/ampligraph/lib/python3.7/site-packages/ampligraph/evaluation/protocol.py\u001b[0m in \u001b[0;36mevaluate_performance\u001b[0;34m(X, model, filter_triples, verbose, filter_unseen, entities_subset, corrupt_side, ranking_strategy, use_default_protocol)\u001b[0m\n\u001b[1;32m    672\u001b[0m         \u001b[0;32mif\u001b[0m \u001b[0mdataset_handle\u001b[0m \u001b[0;32mis\u001b[0m \u001b[0;32mnot\u001b[0m \u001b[0;32mNone\u001b[0m\u001b[0;34m:\u001b[0m\u001b[0;34m\u001b[0m\u001b[0;34m\u001b[0m\u001b[0m\n\u001b[1;32m    673\u001b[0m             \u001b[0mdataset_handle\u001b[0m\u001b[0;34m.\u001b[0m\u001b[0mcleanup\u001b[0m\u001b[0;34m(\u001b[0m\u001b[0;34m)\u001b[0m\u001b[0;34m\u001b[0m\u001b[0;34m\u001b[0m\u001b[0m\n\u001b[0;32m--> 674\u001b[0;31m         \u001b[0;32mraise\u001b[0m \u001b[0me\u001b[0m\u001b[0;34m\u001b[0m\u001b[0;34m\u001b[0m\u001b[0m\n\u001b[0m\u001b[1;32m    675\u001b[0m \u001b[0;34m\u001b[0m\u001b[0m\n\u001b[1;32m    676\u001b[0m \u001b[0;34m\u001b[0m\u001b[0m\n",
      "\u001b[0;32m~/anaconda3/envs/ampligraph/lib/python3.7/site-packages/ampligraph/evaluation/protocol.py\u001b[0m in \u001b[0;36mevaluate_performance\u001b[0;34m(X, model, filter_triples, verbose, filter_unseen, entities_subset, corrupt_side, ranking_strategy, use_default_protocol)\u001b[0m\n\u001b[1;32m    621\u001b[0m             \u001b[0mmsg\u001b[0m \u001b[0;34m=\u001b[0m \u001b[0;34m\"X must be either a numpy array or an AmpligraphDatasetAdapter.\"\u001b[0m\u001b[0;34m\u001b[0m\u001b[0;34m\u001b[0m\u001b[0m\n\u001b[1;32m    622\u001b[0m             \u001b[0mlogger\u001b[0m\u001b[0;34m.\u001b[0m\u001b[0merror\u001b[0m\u001b[0;34m(\u001b[0m\u001b[0mmsg\u001b[0m\u001b[0;34m)\u001b[0m\u001b[0;34m\u001b[0m\u001b[0;34m\u001b[0m\u001b[0m\n\u001b[0;32m--> 623\u001b[0;31m             \u001b[0;32mraise\u001b[0m \u001b[0mValueError\u001b[0m\u001b[0;34m(\u001b[0m\u001b[0mmsg\u001b[0m\u001b[0;34m)\u001b[0m\u001b[0;34m\u001b[0m\u001b[0;34m\u001b[0m\u001b[0m\n\u001b[0m\u001b[1;32m    624\u001b[0m \u001b[0;34m\u001b[0m\u001b[0m\n\u001b[1;32m    625\u001b[0m         \u001b[0;32mif\u001b[0m \u001b[0mfilter_triples\u001b[0m \u001b[0;32mis\u001b[0m \u001b[0;32mnot\u001b[0m \u001b[0;32mNone\u001b[0m\u001b[0;34m:\u001b[0m\u001b[0;34m\u001b[0m\u001b[0;34m\u001b[0m\u001b[0m\n",
      "\u001b[0;31mValueError\u001b[0m: X must be either a numpy array or an AmpligraphDatasetAdapter."
     ]
    }
   ],
   "source": [
    "ranks_unseen = evaluate_performance(np.vectorize(X_unseen), \n",
    "                             model=model,\n",
    "                             filter_triples=unseen_filter,   # Corruption strategy filter defined above \n",
    "                             use_default_protocol=True, # corrupt subj and obj separately while evaluating\n",
    "                             verbose=True)"
   ]
  },
  {
   "cell_type": "markdown",
   "id": "stylish-possible",
   "metadata": {},
   "source": [
    "## Generate Files for Visualization\n",
    "After running the next cell, you may upload the `embeddings_projector.tsv` and `metadata.tsv` to [https://projector.tensorflow.org/](https://projector.tensorflow.org/)"
   ]
  },
  {
   "cell_type": "code",
   "execution_count": null,
   "id": "conventional-procurement",
   "metadata": {},
   "outputs": [],
   "source": [
    "create_tensorboard_visualizations(model, 'tensorboard_files')"
   ]
  },
  {
   "cell_type": "markdown",
   "id": "cardiac-organ",
   "metadata": {},
   "source": [
    "## Discovering Facts"
   ]
  },
  {
   "cell_type": "code",
   "execution_count": null,
   "id": "established-business",
   "metadata": {
    "scrolled": true
   },
   "outputs": [],
   "source": [
    "discover_facts(X_test, model, top_n=10, target_rel='label')"
   ]
  }
 ],
 "metadata": {
  "kernelspec": {
   "display_name": "Python 3",
   "language": "python",
   "name": "python3"
  },
  "language_info": {
   "codemirror_mode": {
    "name": "ipython",
    "version": 3
   },
   "file_extension": ".py",
   "mimetype": "text/x-python",
   "name": "python",
   "nbconvert_exporter": "python",
   "pygments_lexer": "ipython3",
   "version": "3.7.10"
  }
 },
 "nbformat": 4,
 "nbformat_minor": 5
}
