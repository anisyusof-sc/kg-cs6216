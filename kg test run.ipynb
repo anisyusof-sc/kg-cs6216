{
 "cells": [
  {
   "cell_type": "code",
   "execution_count": 1,
   "id": "different-paste",
   "metadata": {},
   "outputs": [],
   "source": [
    "import os\n",
    "import numpy as np\n",
    "from ampligraph.latent_features import TransE\n",
    "from ampligraph.datasets import load_from_csv\n",
    "from ampligraph.utils import create_tensorboard_visualizations"
   ]
  },
  {
   "cell_type": "code",
   "execution_count": 2,
   "id": "marked-invalid",
   "metadata": {},
   "outputs": [],
   "source": [
    "datasetPath = os.getcwd()\n",
    "datasetCsvFilename = 'output.csv'\n",
    "separator = ','"
   ]
  },
  {
   "cell_type": "code",
   "execution_count": 3,
   "id": "modern-premium",
   "metadata": {},
   "outputs": [
    {
     "name": "stdout",
     "output_type": "stream",
     "text": [
      "WARNING - All triples will be processed in the same batch (batches_count=1). When processing large graphs it is recommended to batch the input knowledge graph instead.\n"
     ]
    }
   ],
   "source": [
    "model = TransE(batches_count=1, seed=555, epochs=20, k=10, loss='pairwise', loss_params={'margin':5})"
   ]
  },
  {
   "cell_type": "code",
   "execution_count": 4,
   "id": "unsigned-munich",
   "metadata": {},
   "outputs": [],
   "source": [
    "X = load_from_csv(datasetPath, datasetCsvFilename, sep=separator)"
   ]
  },
  {
   "cell_type": "code",
   "execution_count": 5,
   "id": "french-quick",
   "metadata": {},
   "outputs": [],
   "source": [
    "model.fit(X)"
   ]
  },
  {
   "cell_type": "code",
   "execution_count": 6,
   "id": "material-colors",
   "metadata": {
    "scrolled": true
   },
   "outputs": [
    {
     "data": {
      "text/plain": [
       "array([-1.2907796, -2.4171114], dtype=float32)"
      ]
     },
     "execution_count": 6,
     "metadata": {},
     "output_type": "execute_result"
    }
   ],
   "source": [
    "model.predict(np.array([['CJaDcG3MZzvf1YVYI4', 'proto', 'tcp'], ['CAvTkO0J4x7EI4Wj2', 'id.orig_h', '192.168.100.103']]))"
   ]
  },
  {
   "cell_type": "markdown",
   "id": "antique-month",
   "metadata": {},
   "source": [
    "Both entities below are _Malicious_"
   ]
  },
  {
   "cell_type": "code",
   "execution_count": 7,
   "id": "empirical-tuition",
   "metadata": {
    "scrolled": false
   },
   "outputs": [
    {
     "data": {
      "text/plain": [
       "array([[-0.00499478,  0.00433922, -0.00054836, -0.00400368,  0.00207489,\n",
       "        -0.0122045 , -0.00224713, -0.00109488, -0.00603633,  0.00732285],\n",
       "       [-0.00485313,  0.00438062,  0.00728801,  0.00344213, -0.00203086,\n",
       "        -0.0054007 , -0.00264993,  0.00087341, -0.00891932,  0.01197369]],\n",
       "      dtype=float32)"
      ]
     },
     "execution_count": 7,
     "metadata": {},
     "output_type": "execute_result"
    }
   ],
   "source": [
    "model.get_embeddings(['CUmrqr4svHuSXJy5z7','CH98aB3s1kJeq6SFOc'], embedding_type='entity')"
   ]
  },
  {
   "cell_type": "markdown",
   "id": "uniform-blend",
   "metadata": {},
   "source": [
    "## Generate Files for Visualization\n",
    "After running the next cell, you may upload the `embeddings_projector.tsv` and `metadata.tsv` to [https://projector.tensorflow.org/](https://projector.tensorflow.org/)"
   ]
  },
  {
   "cell_type": "code",
   "execution_count": 8,
   "id": "accessible-discharge",
   "metadata": {},
   "outputs": [],
   "source": [
    "create_tensorboard_visualizations(model, 'tensorboard_files')"
   ]
  }
 ],
 "metadata": {
  "kernelspec": {
   "display_name": "Python 3",
   "language": "python",
   "name": "python3"
  },
  "language_info": {
   "codemirror_mode": {
    "name": "ipython",
    "version": 3
   },
   "file_extension": ".py",
   "mimetype": "text/x-python",
   "name": "python",
   "nbconvert_exporter": "python",
   "pygments_lexer": "ipython3",
   "version": "3.7.10"
  }
 },
 "nbformat": 4,
 "nbformat_minor": 5
}
