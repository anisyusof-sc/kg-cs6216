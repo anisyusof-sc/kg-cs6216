{
 "cells": [
  {
   "cell_type": "code",
   "execution_count": 1,
   "id": "portable-conjunction",
   "metadata": {},
   "outputs": [],
   "source": [
    "from stellargraph import StellarGraph"
   ]
  },
  {
   "cell_type": "code",
   "execution_count": 2,
   "id": "spread-bankruptcy",
   "metadata": {},
   "outputs": [],
   "source": [
    "from stellargraph.mapper import HinSAGELinkGenerator\n",
    "from stellargraph.layer import GCN\n",
    "from sklearn import model_selection\n",
    "from stellargraph.layer import HinSAGE"
   ]
  },
  {
   "cell_type": "code",
   "execution_count": 3,
   "id": "protecting-gossip",
   "metadata": {},
   "outputs": [],
   "source": [
    "import os\n",
    "import py2neo\n",
    "import pandas as pd\n",
    "\n",
    "default_host = os.environ.get(\"STELLARGRAPH_NEO4J_HOST\")\n",
    "\n",
    "# Create the Neo4j Graph database object; the parameters can be edited to specify location and authentication\n",
    "neo4j_graph = py2neo.Graph(host='localhost', port=7687, user='neo4j', password='anis')"
   ]
  },
  {
   "cell_type": "code",
   "execution_count": 4,
   "id": "iraqi-nashville",
   "metadata": {},
   "outputs": [],
   "source": [
    "node_labels = neo4j_graph.run(\n",
    "    \"\"\"\n",
    "MATCH (n) RETURN distinct labels(n)[0] AS nodeLabel\n",
    "    \"\"\"\n",
    ").to_data_frame()\n"
   ]
  },
  {
   "cell_type": "code",
   "execution_count": 5,
   "id": "separate-opinion",
   "metadata": {},
   "outputs": [],
   "source": [
    "nodeDict = {}\n",
    "\n",
    "for idx, row in node_labels.itertuples():\n",
    "    if row == 'uid':\n",
    "        cypherQ = \"MATCH (a:`\" + row + \"`) MATCH (a)-[r1:`label`]->(c) RETURN DISTINCT ID(a) as name, ID(a) as idFeature, case when c.id = 'Malicious' then 1 else 0 end as label\"\n",
    "    else:\n",
    "        cypherQ = \"MATCH (a:`\" + row + \"`) MATCH (n:`uid`)-[r1:`\" + row + \"`]->(a) MATCH(n)-[r2:`label`]->(c) RETURN DISTINCT toInteger(toString(ID(a)) + toString(ID(n))) as name, toInteger(toString(ID(a)) + toString(ID(n))) as idFeature, case when c.id = 'Malicious' then 1 else 0 end as label\"\n",
    "    currNode = neo4j_graph.run(cypherQ).to_data_frame().set_index('name')\n",
    "    nodeDict[row] = currNode"
   ]
  },
  {
   "cell_type": "code",
   "execution_count": 6,
   "id": "bottom-lightning",
   "metadata": {},
   "outputs": [],
   "source": [
    "rel_types = neo4j_graph.run(\n",
    "    \"\"\"\n",
    "MATCH ()-[r]->() RETURN distinct type(r)\n",
    "    \"\"\"\n",
    ").to_data_frame()"
   ]
  },
  {
   "cell_type": "code",
   "execution_count": 7,
   "id": "inside-notice",
   "metadata": {},
   "outputs": [],
   "source": [
    "edgeDict = {}\n",
    "\n",
    "for idx, row in rel_types.itertuples():\n",
    "    currEdge = neo4j_graph.run(\"MATCH (a)-[r1:`\" + row + \"`]->(b) MATCH (a)-[r2:`label`]->(c) RETURN DISTINCT ID(r1) AS rid, ID(a) as source, toInteger(toString(ID(b)) + toString(ID(a))) as target, case when c.id = 'Malicious' then 1 else 0 end as label\").to_data_frame().set_index('rid')\n",
    "    edgeDict[row] = currEdge"
   ]
  },
  {
   "cell_type": "raw",
   "id": "mighty-engine",
   "metadata": {},
   "source": [
    "for idx, val in enumerate(nodeDict):\n",
    "    nodeDict[int(idx)] = nodeDict[val]\n",
    "    del nodeDict[val]\n",
    "    \n",
    "for idx, val in enumerate(edgeDict):\n",
    "    edgeDict[int(idx)] = edgeDict[val]\n",
    "    del edgeDict[val]"
   ]
  },
  {
   "cell_type": "code",
   "execution_count": 8,
   "id": "julian-better",
   "metadata": {},
   "outputs": [],
   "source": [
    "hetereogeneousGraph = StellarGraph(nodeDict, edgeDict, is_directed=True)"
   ]
  },
  {
   "cell_type": "code",
   "execution_count": 9,
   "id": "female-horse",
   "metadata": {},
   "outputs": [
    {
     "name": "stdout",
     "output_type": "stream",
     "text": [
      "StellarGraph: Directed multigraph\n",
      " Nodes: 860027, Edges: 810027\n",
      "\n",
      " Node types:\n",
      "  uid: [50000]\n",
      "    Features: float32 vector, length 2\n",
      "    Edge types: uid-conn_state->conn_state, uid-detailed-label->detailed-label, uid-duration->duration, uid-history->history, uid-id.orig_h->id.orig_h, ... (15 more)\n",
      "  tunnel_parents: [50000]\n",
      "    Features: float32 vector, length 2\n",
      "    Edge types: none\n",
      "  ts: [50000]\n",
      "    Features: float32 vector, length 2\n",
      "    Edge types: none\n",
      "  resp_pkts: [50000]\n",
      "    Features: float32 vector, length 2\n",
      "    Edge types: none\n",
      "  resp_ip_bytes: [50000]\n",
      "    Features: float32 vector, length 2\n",
      "    Edge types: none\n",
      "  proto: [50000]\n",
      "    Features: float32 vector, length 2\n",
      "    Edge types: none\n",
      "  orig_pkts: [50000]\n",
      "    Features: float32 vector, length 2\n",
      "    Edge types: none\n",
      "  orig_ip_bytes: [50000]\n",
      "    Features: float32 vector, length 2\n",
      "    Edge types: none\n",
      "  missed_bytes: [50000]\n",
      "    Features: float32 vector, length 2\n",
      "    Edge types: none\n",
      "  label: [50000]\n",
      "    Features: float32 vector, length 2\n",
      "    Edge types: none\n",
      "  id.resp_p: [50000]\n",
      "    Features: float32 vector, length 2\n",
      "    Edge types: none\n",
      "  id.resp_h: [50000]\n",
      "    Features: float32 vector, length 2\n",
      "    Edge types: none\n",
      "  id.orig_p: [50000]\n",
      "    Features: float32 vector, length 2\n",
      "    Edge types: none\n",
      "  id.orig_h: [50000]\n",
      "    Features: float32 vector, length 2\n",
      "    Edge types: none\n",
      "  conn_state: [50000]\n",
      "    Features: float32 vector, length 2\n",
      "    Edge types: none\n",
      "  history: [48733]\n",
      "    Features: float32 vector, length 2\n",
      "    Edge types: none\n",
      "  detailed-label: [27882]\n",
      "    Features: float32 vector, length 2\n",
      "    Edge types: none\n",
      "  resp_bytes: [11094]\n",
      "    Features: float32 vector, length 2\n",
      "    Edge types: none\n",
      "  orig_bytes: [11094]\n",
      "    Features: float32 vector, length 2\n",
      "    Edge types: none\n",
      "  duration: [11094]\n",
      "    Features: float32 vector, length 2\n",
      "    Edge types: none\n",
      "  ... (1 more)\n",
      "\n",
      " Edge types:\n",
      "    uid-tunnel_parents->tunnel_parents: [50000]\n",
      "        Weights: all 1 (default)\n",
      "        Features: float32 vector, length 1\n",
      "    uid-ts->ts: [50000]\n",
      "        Weights: all 1 (default)\n",
      "        Features: float32 vector, length 1\n",
      "    uid-resp_pkts->resp_pkts: [50000]\n",
      "        Weights: all 1 (default)\n",
      "        Features: float32 vector, length 1\n",
      "    uid-resp_ip_bytes->resp_ip_bytes: [50000]\n",
      "        Weights: all 1 (default)\n",
      "        Features: float32 vector, length 1\n",
      "    uid-proto->proto: [50000]\n",
      "        Weights: all 1 (default)\n",
      "        Features: float32 vector, length 1\n",
      "    uid-orig_pkts->orig_pkts: [50000]\n",
      "        Weights: all 1 (default)\n",
      "        Features: float32 vector, length 1\n",
      "    uid-orig_ip_bytes->orig_ip_bytes: [50000]\n",
      "        Weights: all 1 (default)\n",
      "        Features: float32 vector, length 1\n",
      "    uid-missed_bytes->missed_bytes: [50000]\n",
      "        Weights: all 1 (default)\n",
      "        Features: float32 vector, length 1\n",
      "    uid-label->label: [50000]\n",
      "        Weights: all 1 (default)\n",
      "        Features: float32 vector, length 1\n",
      "    uid-id.resp_p->id.resp_p: [50000]\n",
      "        Weights: all 1 (default)\n",
      "        Features: float32 vector, length 1\n",
      "    uid-id.resp_h->id.resp_h: [50000]\n",
      "        Weights: all 1 (default)\n",
      "        Features: float32 vector, length 1\n",
      "    uid-id.orig_p->id.orig_p: [50000]\n",
      "        Weights: all 1 (default)\n",
      "        Features: float32 vector, length 1\n",
      "    uid-id.orig_h->id.orig_h: [50000]\n",
      "        Weights: all 1 (default)\n",
      "        Features: float32 vector, length 1\n",
      "    uid-conn_state->conn_state: [50000]\n",
      "        Weights: all 1 (default)\n",
      "        Features: float32 vector, length 1\n",
      "    uid-history->history: [48733]\n",
      "        Weights: all 1 (default)\n",
      "        Features: float32 vector, length 1\n",
      "    uid-detailed-label->detailed-label: [27882]\n",
      "        Weights: all 1 (default)\n",
      "        Features: float32 vector, length 1\n",
      "    uid-resp_bytes->resp_bytes: [11094]\n",
      "        Weights: all 1 (default)\n",
      "        Features: float32 vector, length 1\n",
      "    uid-orig_bytes->orig_bytes: [11094]\n",
      "        Weights: all 1 (default)\n",
      "        Features: float32 vector, length 1\n",
      "    uid-duration->duration: [11094]\n",
      "        Weights: all 1 (default)\n",
      "        Features: float32 vector, length 1\n",
      "    uid-service->service: [130]\n",
      "        Weights: all 1 (default)\n",
      "        Features: float32 vector, length 1\n"
     ]
    }
   ],
   "source": [
    "print(hetereogeneousGraph.info())"
   ]
  },
  {
   "cell_type": "code",
   "execution_count": 10,
   "id": "foster-audience",
   "metadata": {
    "scrolled": true
   },
   "outputs": [],
   "source": [
    "#edges_train, edges_test = model_selection.train_test_split(pd.concat(list(edgeDict.values())), train_size=0.7, test_size=0.3)\n",
    "edges_train, edges_test = model_selection.train_test_split(edgeDict[\"label\"], train_size=0.7, test_size=0.3)"
   ]
  },
  {
   "cell_type": "code",
   "execution_count": 11,
   "id": "fatal-proceeding",
   "metadata": {},
   "outputs": [
    {
     "name": "stdout",
     "output_type": "stream",
     "text": [
      "Pandas(source=264775, target=154483264775)\n"
     ]
    }
   ],
   "source": [
    "edgelist_train = list(edges_train[[\"source\", \"target\"]].itertuples(index=False))#.rename(columns={\"source\":\"uid\", \"target\":\"uid\"}, inplace=False)\n",
    "edgelist_test = list(edges_test[[\"source\", \"target\"]].itertuples(index=False))\n",
    "print(edgelist_train[0])"
   ]
  },
  {
   "cell_type": "code",
   "execution_count": 12,
   "id": "confirmed-genetics",
   "metadata": {},
   "outputs": [],
   "source": [
    "labels_train = list(edges_train[[\"label\"]].itertuples(index=False))\n",
    "labels_test = list(edges_test[[\"label\"]].itertuples(index=False))"
   ]
  },
  {
   "cell_type": "code",
   "execution_count": 13,
   "id": "ceramic-boutique",
   "metadata": {},
   "outputs": [],
   "source": [
    "batch_size = 50\n",
    "num_samples = [8, 8, 8]\n",
    "\n",
    "generator = HinSAGELinkGenerator(hetereogeneousGraph, batch_size, num_samples, head_node_types=[\"uid\", \"label\"])"
   ]
  },
  {
   "cell_type": "code",
   "execution_count": 14,
   "id": "swedish-chain",
   "metadata": {},
   "outputs": [],
   "source": [
    "train_gen = generator.flow(edgelist_train, labels_train, shuffle=True)\n",
    "test_gen = generator.flow(edgelist_test, labels_test)"
   ]
  },
  {
   "cell_type": "code",
   "execution_count": 15,
   "id": "charged-allocation",
   "metadata": {
    "scrolled": true
   },
   "outputs": [
    {
     "data": {
      "text/plain": [
       "[('uid',\n",
       "  [2, 3, 4, 5, 6, 7, 8, 9, 10, 11, 12, 13, 14, 15, 16, 17, 18, 19, 20, 21]),\n",
       " ('label', []),\n",
       " ('conn_state', []),\n",
       " ('detailed-label', []),\n",
       " ('duration', []),\n",
       " ('history', []),\n",
       " ('id.orig_h', []),\n",
       " ('id.orig_p', []),\n",
       " ('id.resp_h', []),\n",
       " ('id.resp_p', []),\n",
       " ('label', []),\n",
       " ('missed_bytes', []),\n",
       " ('orig_bytes', []),\n",
       " ('orig_ip_bytes', []),\n",
       " ('orig_pkts', []),\n",
       " ('proto', []),\n",
       " ('resp_bytes', []),\n",
       " ('resp_ip_bytes', []),\n",
       " ('resp_pkts', []),\n",
       " ('service', []),\n",
       " ('ts', []),\n",
       " ('tunnel_parents', [])]"
      ]
     },
     "execution_count": 15,
     "metadata": {},
     "output_type": "execute_result"
    }
   ],
   "source": [
    "generator.schema.type_adjacency_list(generator.head_node_types, len(num_samples))"
   ]
  },
  {
   "cell_type": "code",
   "execution_count": 16,
   "id": "usual-inside",
   "metadata": {},
   "outputs": [
    {
     "data": {
      "text/plain": [
       "{'id.orig_h': [],\n",
       " 'resp_bytes': [],\n",
       " 'missed_bytes': [],\n",
       " 'orig_pkts': [],\n",
       " 'resp_ip_bytes': [],\n",
       " 'id.resp_p': [],\n",
       " 'tunnel_parents': [],\n",
       " 'history': [],\n",
       " 'proto': [],\n",
       " 'ts': [],\n",
       " 'conn_state': [],\n",
       " 'detailed-label': [],\n",
       " 'uid': [EdgeType(n1='uid', rel='conn_state', n2='conn_state'),\n",
       "  EdgeType(n1='uid', rel='detailed-label', n2='detailed-label'),\n",
       "  EdgeType(n1='uid', rel='duration', n2='duration'),\n",
       "  EdgeType(n1='uid', rel='history', n2='history'),\n",
       "  EdgeType(n1='uid', rel='id.orig_h', n2='id.orig_h'),\n",
       "  EdgeType(n1='uid', rel='id.orig_p', n2='id.orig_p'),\n",
       "  EdgeType(n1='uid', rel='id.resp_h', n2='id.resp_h'),\n",
       "  EdgeType(n1='uid', rel='id.resp_p', n2='id.resp_p'),\n",
       "  EdgeType(n1='uid', rel='label', n2='label'),\n",
       "  EdgeType(n1='uid', rel='missed_bytes', n2='missed_bytes'),\n",
       "  EdgeType(n1='uid', rel='orig_bytes', n2='orig_bytes'),\n",
       "  EdgeType(n1='uid', rel='orig_ip_bytes', n2='orig_ip_bytes'),\n",
       "  EdgeType(n1='uid', rel='orig_pkts', n2='orig_pkts'),\n",
       "  EdgeType(n1='uid', rel='proto', n2='proto'),\n",
       "  EdgeType(n1='uid', rel='resp_bytes', n2='resp_bytes'),\n",
       "  EdgeType(n1='uid', rel='resp_ip_bytes', n2='resp_ip_bytes'),\n",
       "  EdgeType(n1='uid', rel='resp_pkts', n2='resp_pkts'),\n",
       "  EdgeType(n1='uid', rel='service', n2='service'),\n",
       "  EdgeType(n1='uid', rel='ts', n2='ts'),\n",
       "  EdgeType(n1='uid', rel='tunnel_parents', n2='tunnel_parents')],\n",
       " 'duration': [],\n",
       " 'label': [],\n",
       " 'orig_ip_bytes': [],\n",
       " 'id.resp_h': [],\n",
       " 'service': [],\n",
       " 'orig_bytes': [],\n",
       " 'resp_pkts': [],\n",
       " 'id.orig_p': []}"
      ]
     },
     "execution_count": 16,
     "metadata": {},
     "output_type": "execute_result"
    }
   ],
   "source": [
    "generator.schema.schema"
   ]
  },
  {
   "cell_type": "code",
   "execution_count": 17,
   "id": "direct-testing",
   "metadata": {},
   "outputs": [
    {
     "ename": "IndexError",
     "evalue": "list index out of range",
     "output_type": "error",
     "traceback": [
      "\u001b[0;31m---------------------------------------------------------------------------\u001b[0m",
      "\u001b[0;31mIndexError\u001b[0m                                Traceback (most recent call last)",
      "\u001b[0;32m<ipython-input-17-cdc3f1978130>\u001b[0m in \u001b[0;36m<module>\u001b[0;34m\u001b[0m\n\u001b[1;32m      4\u001b[0m \u001b[0;34m\u001b[0m\u001b[0m\n\u001b[1;32m      5\u001b[0m hinsage = HinSAGE(\n\u001b[0;32m----> 6\u001b[0;31m     \u001b[0mlayer_sizes\u001b[0m\u001b[0;34m=\u001b[0m\u001b[0mhinsage_layer_sizes\u001b[0m\u001b[0;34m,\u001b[0m \u001b[0mgenerator\u001b[0m\u001b[0;34m=\u001b[0m\u001b[0mgenerator\u001b[0m\u001b[0;34m,\u001b[0m \u001b[0mbias\u001b[0m\u001b[0;34m=\u001b[0m\u001b[0;32mTrue\u001b[0m\u001b[0;34m,\u001b[0m \u001b[0mdropout\u001b[0m\u001b[0;34m=\u001b[0m\u001b[0;36m0.0\u001b[0m\u001b[0;34m\u001b[0m\u001b[0;34m\u001b[0m\u001b[0m\n\u001b[0m\u001b[1;32m      7\u001b[0m )\n",
      "\u001b[0;32m~/anaconda3/envs/stellargraph/lib/python3.7/site-packages/stellargraph/layer/hinsage.py\u001b[0m in \u001b[0;36m__init__\u001b[0;34m(self, layer_sizes, generator, aggregator, bias, dropout, normalize, activations, kernel_initializer, kernel_regularizer, kernel_constraint, bias_initializer, bias_regularizer, bias_constraint, n_samples, input_neighbor_tree, input_dim, multiplicity)\u001b[0m\n\u001b[1;32m    403\u001b[0m             \u001b[0;32mif\u001b[0m \u001b[0misinstance\u001b[0m\u001b[0;34m(\u001b[0m\u001b[0mdim\u001b[0m\u001b[0;34m,\u001b[0m \u001b[0mdict\u001b[0m\u001b[0;34m)\u001b[0m\u001b[0;34m\u001b[0m\u001b[0;34m\u001b[0m\u001b[0m\n\u001b[1;32m    404\u001b[0m             \u001b[0;32melse\u001b[0m \u001b[0;34m{\u001b[0m\u001b[0mk\u001b[0m\u001b[0;34m:\u001b[0m \u001b[0mdim\u001b[0m \u001b[0;32mfor\u001b[0m \u001b[0mk\u001b[0m\u001b[0;34m,\u001b[0m \u001b[0m_\u001b[0m \u001b[0;32min\u001b[0m \u001b[0;34m(\u001b[0m\u001b[0;34m[\u001b[0m\u001b[0mself\u001b[0m\u001b[0;34m.\u001b[0m\u001b[0msubtree_schema\u001b[0m\u001b[0;34m]\u001b[0m \u001b[0;34m+\u001b[0m \u001b[0mself\u001b[0m\u001b[0;34m.\u001b[0m\u001b[0mneigh_trees\u001b[0m\u001b[0;34m)\u001b[0m\u001b[0;34m[\u001b[0m\u001b[0mlayer\u001b[0m\u001b[0;34m]\u001b[0m\u001b[0;34m}\u001b[0m\u001b[0;34m\u001b[0m\u001b[0;34m\u001b[0m\u001b[0m\n\u001b[0;32m--> 405\u001b[0;31m             \u001b[0;32mfor\u001b[0m \u001b[0mlayer\u001b[0m\u001b[0;34m,\u001b[0m \u001b[0mdim\u001b[0m \u001b[0;32min\u001b[0m \u001b[0menumerate\u001b[0m\u001b[0;34m(\u001b[0m\u001b[0;34m[\u001b[0m\u001b[0mself\u001b[0m\u001b[0;34m.\u001b[0m\u001b[0minput_dims\u001b[0m\u001b[0;34m]\u001b[0m \u001b[0;34m+\u001b[0m \u001b[0mlayer_sizes\u001b[0m\u001b[0;34m)\u001b[0m\u001b[0;34m\u001b[0m\u001b[0;34m\u001b[0m\u001b[0m\n\u001b[0m\u001b[1;32m    406\u001b[0m         ]\n\u001b[1;32m    407\u001b[0m \u001b[0;34m\u001b[0m\u001b[0m\n",
      "\u001b[0;32m~/anaconda3/envs/stellargraph/lib/python3.7/site-packages/stellargraph/layer/hinsage.py\u001b[0m in \u001b[0;36m<listcomp>\u001b[0;34m(.0)\u001b[0m\n\u001b[1;32m    403\u001b[0m             \u001b[0;32mif\u001b[0m \u001b[0misinstance\u001b[0m\u001b[0;34m(\u001b[0m\u001b[0mdim\u001b[0m\u001b[0;34m,\u001b[0m \u001b[0mdict\u001b[0m\u001b[0;34m)\u001b[0m\u001b[0;34m\u001b[0m\u001b[0;34m\u001b[0m\u001b[0m\n\u001b[1;32m    404\u001b[0m             \u001b[0;32melse\u001b[0m \u001b[0;34m{\u001b[0m\u001b[0mk\u001b[0m\u001b[0;34m:\u001b[0m \u001b[0mdim\u001b[0m \u001b[0;32mfor\u001b[0m \u001b[0mk\u001b[0m\u001b[0;34m,\u001b[0m \u001b[0m_\u001b[0m \u001b[0;32min\u001b[0m \u001b[0;34m(\u001b[0m\u001b[0;34m[\u001b[0m\u001b[0mself\u001b[0m\u001b[0;34m.\u001b[0m\u001b[0msubtree_schema\u001b[0m\u001b[0;34m]\u001b[0m \u001b[0;34m+\u001b[0m \u001b[0mself\u001b[0m\u001b[0;34m.\u001b[0m\u001b[0mneigh_trees\u001b[0m\u001b[0;34m)\u001b[0m\u001b[0;34m[\u001b[0m\u001b[0mlayer\u001b[0m\u001b[0;34m]\u001b[0m\u001b[0;34m}\u001b[0m\u001b[0;34m\u001b[0m\u001b[0;34m\u001b[0m\u001b[0m\n\u001b[0;32m--> 405\u001b[0;31m             \u001b[0;32mfor\u001b[0m \u001b[0mlayer\u001b[0m\u001b[0;34m,\u001b[0m \u001b[0mdim\u001b[0m \u001b[0;32min\u001b[0m \u001b[0menumerate\u001b[0m\u001b[0;34m(\u001b[0m\u001b[0;34m[\u001b[0m\u001b[0mself\u001b[0m\u001b[0;34m.\u001b[0m\u001b[0minput_dims\u001b[0m\u001b[0;34m]\u001b[0m \u001b[0;34m+\u001b[0m \u001b[0mlayer_sizes\u001b[0m\u001b[0;34m)\u001b[0m\u001b[0;34m\u001b[0m\u001b[0;34m\u001b[0m\u001b[0m\n\u001b[0m\u001b[1;32m    406\u001b[0m         ]\n\u001b[1;32m    407\u001b[0m \u001b[0;34m\u001b[0m\u001b[0m\n",
      "\u001b[0;31mIndexError\u001b[0m: list index out of range"
     ]
    }
   ],
   "source": [
    "hinsage_layer_sizes = [8, 8, 8]\n",
    "\n",
    "assert len(hinsage_layer_sizes) == len(num_samples)\n",
    "\n",
    "hinsage = HinSAGE(\n",
    "    layer_sizes=hinsage_layer_sizes, generator=generator, bias=True, dropout=0.0\n",
    ")"
   ]
  },
  {
   "cell_type": "code",
   "execution_count": null,
   "id": "metropolitan-angola",
   "metadata": {},
   "outputs": [],
   "source": []
  }
 ],
 "metadata": {
  "kernelspec": {
   "display_name": "Python 3",
   "language": "python",
   "name": "python3"
  },
  "language_info": {
   "codemirror_mode": {
    "name": "ipython",
    "version": 3
   },
   "file_extension": ".py",
   "mimetype": "text/x-python",
   "name": "python",
   "nbconvert_exporter": "python",
   "pygments_lexer": "ipython3",
   "version": "3.7.10"
  }
 },
 "nbformat": 4,
 "nbformat_minor": 5
}
